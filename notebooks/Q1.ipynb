{
 "cells": [
  {
   "cell_type": "markdown",
   "metadata": {},
   "source": [
    "### Q1\n",
    "\n",
    "Use Jupyter Notebook (Python or R) to implement a neural network approach to logistic regression (no hidden layers, one output node)"
   ]
  },
  {
   "cell_type": "markdown",
   "metadata": {},
   "source": [
    "1. Import libraries that are needed for analysis"
   ]
  },
  {
   "cell_type": "code",
   "execution_count": 1,
   "metadata": {},
   "outputs": [],
   "source": [
    "import numpy as np"
   ]
  },
  {
   "cell_type": "markdown",
   "metadata": {},
   "source": [
    "As per the lecture notes the steps we can take here are as follows:\n",
    "- Start off with defining the sigmoid function, $f(z) = \\frac{1}{1 + e^{-z}}$\n",
    "- Define $\\hat{y} = a_{w, b} = f(\\bold{w} \\cdot \\bold{x} + b) $ * The bold means w and x are vectors and this is the dot product\n",
    "- Define a log loss function, $Loss(y, \\hat{y}) = y^{(i)}log(\\hat{y}^{(i)}) + (1-y^{(i)})log(1-\\hat{y}^{(i)})$\n",
    "- Use the log loss function to define our cost function, $J(w, b) = -\\frac{1}{N} \\sum\\limits^{N}_{i = 1} y^{(i)}log(\\hat{y}^{(i)}) + (1-y^{(i)})log(1-\\hat{y}^{(i)})$\n",
    "- Define $\\bigtriangleup w_j$ and $\\bigtriangleup b$\n",
    "  - Where $\\bigtriangleup w_j = \\frac{\\delta J}{\\delta w_j} = x_{j}^{(i)}(\\hat{y}^{(i)} - y^{(i)})$\n",
    "  - Where $\\bigtriangleup b = \\frac{\\delta J}{\\delta b} = \\hat{y}^{(i)} - y^{(i)}$"
   ]
  },
  {
   "cell_type": "code",
   "execution_count": 2,
   "metadata": {},
   "outputs": [],
   "source": [
    "def f(x, w, b):\n",
    "    z = np.dot(x, w) + b\n",
    "    return 1 / (1 + np.exp(-z))"
   ]
  },
  {
   "cell_type": "code",
   "execution_count": 3,
   "metadata": {},
   "outputs": [],
   "source": [
    "# Initialise weights and bias\n",
    "# For the weights, it needs to match the length of x\n",
    "# Here for x, I will use the example from lectures on movies\n",
    "import pandas as pd\n",
    "df = pd.read_csv(\"../data/lr_data.csv\", sep = \"\\t\")\n",
    "df[\"I_Like\"] = pd.Series(np.where(df['I_Like'] == 'Yes', 1, 0))"
   ]
  },
  {
   "cell_type": "code",
   "execution_count": 4,
   "metadata": {},
   "outputs": [
    {
     "data": {
      "text/html": [
       "<div>\n",
       "<style scoped>\n",
       "    .dataframe tbody tr th:only-of-type {\n",
       "        vertical-align: middle;\n",
       "    }\n",
       "\n",
       "    .dataframe tbody tr th {\n",
       "        vertical-align: top;\n",
       "    }\n",
       "\n",
       "    .dataframe thead th {\n",
       "        text-align: right;\n",
       "    }\n",
       "</style>\n",
       "<table border=\"1\" class=\"dataframe\">\n",
       "  <thead>\n",
       "    <tr style=\"text-align: right;\">\n",
       "      <th></th>\n",
       "      <th>Movie</th>\n",
       "      <th>Mary</th>\n",
       "      <th>John</th>\n",
       "      <th>I_Like</th>\n",
       "    </tr>\n",
       "  </thead>\n",
       "  <tbody>\n",
       "    <tr>\n",
       "      <th>0</th>\n",
       "      <td>LOTR 2</td>\n",
       "      <td>1.0</td>\n",
       "      <td>5.0</td>\n",
       "      <td>0</td>\n",
       "    </tr>\n",
       "    <tr>\n",
       "      <th>1</th>\n",
       "      <td>Mov3</td>\n",
       "      <td>1.0</td>\n",
       "      <td>4.0</td>\n",
       "      <td>0</td>\n",
       "    </tr>\n",
       "    <tr>\n",
       "      <th>2</th>\n",
       "      <td>Mov4</td>\n",
       "      <td>1.5</td>\n",
       "      <td>4.0</td>\n",
       "      <td>0</td>\n",
       "    </tr>\n",
       "    <tr>\n",
       "      <th>3</th>\n",
       "      <td>Mov5</td>\n",
       "      <td>2.5</td>\n",
       "      <td>3.0</td>\n",
       "      <td>0</td>\n",
       "    </tr>\n",
       "    <tr>\n",
       "      <th>4</th>\n",
       "      <td>Mov6</td>\n",
       "      <td>2.5</td>\n",
       "      <td>1.5</td>\n",
       "      <td>0</td>\n",
       "    </tr>\n",
       "    <tr>\n",
       "      <th>5</th>\n",
       "      <td>Mov7</td>\n",
       "      <td>2.5</td>\n",
       "      <td>1.0</td>\n",
       "      <td>0</td>\n",
       "    </tr>\n",
       "    <tr>\n",
       "      <th>6</th>\n",
       "      <td>Star Wars 1</td>\n",
       "      <td>4.5</td>\n",
       "      <td>4.0</td>\n",
       "      <td>1</td>\n",
       "    </tr>\n",
       "    <tr>\n",
       "      <th>7</th>\n",
       "      <td>Mov8</td>\n",
       "      <td>2.5</td>\n",
       "      <td>5.0</td>\n",
       "      <td>1</td>\n",
       "    </tr>\n",
       "    <tr>\n",
       "      <th>8</th>\n",
       "      <td>Mov9</td>\n",
       "      <td>3.5</td>\n",
       "      <td>4.0</td>\n",
       "      <td>1</td>\n",
       "    </tr>\n",
       "    <tr>\n",
       "      <th>9</th>\n",
       "      <td>Mov10</td>\n",
       "      <td>3.5</td>\n",
       "      <td>5.0</td>\n",
       "      <td>1</td>\n",
       "    </tr>\n",
       "    <tr>\n",
       "      <th>10</th>\n",
       "      <td>Mov11</td>\n",
       "      <td>4.5</td>\n",
       "      <td>5.0</td>\n",
       "      <td>1</td>\n",
       "    </tr>\n",
       "  </tbody>\n",
       "</table>\n",
       "</div>"
      ],
      "text/plain": [
       "          Movie  Mary  John  I_Like\n",
       "0        LOTR 2   1.0   5.0       0\n",
       "1          Mov3   1.0   4.0       0\n",
       "2          Mov4   1.5   4.0       0\n",
       "3          Mov5   2.5   3.0       0\n",
       "4          Mov6   2.5   1.5       0\n",
       "5          Mov7   2.5   1.0       0\n",
       "6   Star Wars 1   4.5   4.0       1\n",
       "7          Mov8   2.5   5.0       1\n",
       "8          Mov9   3.5   4.0       1\n",
       "9         Mov10   3.5   5.0       1\n",
       "10        Mov11   4.5   5.0       1"
      ]
     },
     "execution_count": 4,
     "metadata": {},
     "output_type": "execute_result"
    }
   ],
   "source": [
    "df"
   ]
  },
  {
   "cell_type": "code",
   "execution_count": 23,
   "metadata": {},
   "outputs": [],
   "source": [
    "# So what we have above is our training data. I need to put this into a vector array format through numpy\n",
    "x = np.array(df.iloc[:, 1:4])"
   ]
  },
  {
   "cell_type": "code",
   "execution_count": 24,
   "metadata": {},
   "outputs": [
    {
     "data": {
      "text/plain": [
       "array([[1. , 5. , 0. ],\n",
       "       [1. , 4. , 0. ],\n",
       "       [1.5, 4. , 0. ],\n",
       "       [2.5, 3. , 0. ],\n",
       "       [2.5, 1.5, 0. ],\n",
       "       [2.5, 1. , 0. ],\n",
       "       [4.5, 4. , 1. ],\n",
       "       [2.5, 5. , 1. ],\n",
       "       [3.5, 4. , 1. ],\n",
       "       [3.5, 5. , 1. ],\n",
       "       [4.5, 5. , 1. ]])"
      ]
     },
     "execution_count": 24,
     "metadata": {},
     "output_type": "execute_result"
    }
   ],
   "source": [
    "x"
   ]
  },
  {
   "cell_type": "code",
   "execution_count": null,
   "metadata": {},
   "outputs": [],
   "source": []
  }
 ],
 "metadata": {
  "interpreter": {
   "hash": "d09f2ec45b86a9ade56bf252f964e7f4440435c66c3dc6307f3b48e40efa594b"
  },
  "kernelspec": {
   "display_name": "Python 3.9.7 64-bit ('base_env': conda)",
   "language": "python",
   "name": "python3"
  },
  "language_info": {
   "codemirror_mode": {
    "name": "ipython",
    "version": 3
   },
   "file_extension": ".py",
   "mimetype": "text/x-python",
   "name": "python",
   "nbconvert_exporter": "python",
   "pygments_lexer": "ipython3",
   "version": "3.9.7"
  },
  "orig_nbformat": 4
 },
 "nbformat": 4,
 "nbformat_minor": 2
}
